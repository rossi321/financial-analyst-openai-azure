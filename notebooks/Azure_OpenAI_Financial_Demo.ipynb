{
 "cells": [
  {
   "cell_type": "markdown",
   "id": "c8e396ba",
   "metadata": {},
   "source": [
    "# 💼 Azure OpenAI Financial Demo\n",
    "This notebook demonstrates how to use Azure OpenAI to analyze an uploaded earnings call transcript and answer questions using a GPT-35-Turbo deployment."
   ]
  },
  {
   "cell_type": "code",
   "execution_count": null,
   "id": "e0096ca4",
   "metadata": {},
   "outputs": [],
   "source": [
    "# Step 1: Install and import dependencies\n",
    "!pip install --quiet openai\n",
    "\n",
    "from openai import AzureOpenAI\n",
    "import os"
   ]
  },
  {
   "cell_type": "code",
   "execution_count": null,
   "id": "a66cc9e1",
   "metadata": {},
   "outputs": [],
   "source": [
    "# Step 2: Set your Azure OpenAI credentials\n",
    "AZURE_OPENAI_KEY = \"your-key-here\"\n",
    "AZURE_OPENAI_ENDPOINT = \"https://your-resource-name.openai.azure.com/\"\n",
    "AZURE_OPENAI_DEPLOYMENT = \"your-deployment-name\"\n",
    "\n",
    "client = AzureOpenAI(\n",
    "    api_key=AZURE_OPENAI_KEY,\n",
    "    api_version=\"2023-05-15\",\n",
    "    azure_endpoint=AZURE_OPENAI_ENDPOINT\n",
    ")"
   ]
  },
  {
   "cell_type": "code",
   "execution_count": null,
   "id": "693e6240",
   "metadata": {},
   "outputs": [],
   "source": [
    "# Step 3: Load a local document (transcript)\n",
    "with open(\"q2_earnings_call.txt\", \"r\") as file:\n",
    "    document = file.read()"
   ]
  },
  {
   "cell_type": "code",
   "execution_count": null,
   "id": "69e82abd",
   "metadata": {},
   "outputs": [],
   "source": [
    "# Step 4: Define the assistant prompt and query function\n",
    "def ask_question(document, question):\n",
    "    prompt = f\"\"\"You are a financial analyst assistant. Use the following document to answer the question.\n",
    "\n",
    "Document:\n",
    "{document}\n",
    "\n",
    "Question: {question}\n",
    "Answer:\"\"\"\n",
    "    response = client.chat.completions.create(\n",
    "        model=AZURE_OPENAI_DEPLOYMENT,\n",
    "        messages=[{\"role\": \"user\", \"content\": prompt}],\n",
    "        temperature=0.2,\n",
    "        max_tokens=300\n",
    "    )\n",
    "    return response.choices[0].message.content"
   ]
  },
  {
   "cell_type": "code",
   "execution_count": null,
   "id": "5cf97215",
   "metadata": {},
   "outputs": [],
   "source": [
    "# Step 5: Ask a question and display the result\n",
    "answer = ask_question(document, \"What were the key drivers of revenue growth in Q2?\")\n",
    "print(\"Answer:\\n\", answer)"
   ]
  },
  {
   "cell_type": "markdown",
   "id": "fbb2972d",
   "metadata": {},
   "source": [
    "✅ This concludes the notebook demo. For a production-ready app, see the Streamlit version (`app.py`)."
   ]
  }
 ],
 "metadata": {},
 "nbformat": 4,
 "nbformat_minor": 5
}